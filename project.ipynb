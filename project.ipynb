{
 "cells": [
  {
   "cell_type": "markdown",
   "metadata": {},
   "source": [
    "Import Libraries:"
   ]
  },
  {
   "cell_type": "code",
   "execution_count": 1,
   "metadata": {},
   "outputs": [],
   "source": [
    "import pandas as pd\n",
    "import numpy as np\n",
    "import seaborn as sns"
   ]
  },
  {
   "cell_type": "code",
   "execution_count": 2,
   "metadata": {},
   "outputs": [
    {
     "name": "stdout",
     "output_type": "stream",
     "text": [
      "                                  App            Category  Rating  Reviews  \\\n",
      "1049                      ING Banking             FINANCE     4.4    39041   \n",
      "1803   Harry Potter: Hogwarts Mystery                GAME     4.4  1107310   \n",
      "10614           Ocala Star Banner, FL  NEWS_AND_MAGAZINES     4.5       75   \n",
      "7856             Radiology CT Anatomy             MEDICAL     4.2      345   \n",
      "7701    Evolve CP Calc. for PokemonGo               TOOLS     3.9      116   \n",
      "\n",
      "                     Size     Installs  Type Price Content Rating  \\\n",
      "1049   Varies with device   1,000,000+  Free     0       Everyone   \n",
      "1803   Varies with device  10,000,000+  Free     0           Teen   \n",
      "10614                8.1M       5,000+  Free     0       Everyone   \n",
      "7856                  14M      50,000+  Free     0       Everyone   \n",
      "7701                 3.3M      10,000+  Free     0       Everyone   \n",
      "\n",
      "                 Genres       Last Updated         Current Ver  \\\n",
      "1049            Finance     August 3, 2018  Varies with device   \n",
      "1803          Adventure     August 1, 2018               1.8.2   \n",
      "10614  News & Magazines      July 25, 2018                 5.1   \n",
      "7856            Medical   January 20, 2018                 1.6   \n",
      "7701              Tools  December 18, 2016                 2.6   \n",
      "\n",
      "              Android Ver  \n",
      "1049   Varies with device  \n",
      "1803           4.4 and up  \n",
      "10614          4.4 and up  \n",
      "7856           4.0 and up  \n",
      "7701           4.4 and up  \n"
     ]
    }
   ],
   "source": [
    "# Read the Excel file 'googleplaystore.csv.xlsx'\n",
    "df = pd.read_excel('googleplaystore.csv.xlsx')\n",
    "\n",
    "# Display a random sample of 5 rows\n",
    "print(df.sample(5))"
   ]
  },
  {
   "cell_type": "markdown",
   "metadata": {},
   "source": [
    "### Data Cleaning"
   ]
  },
  {
   "cell_type": "markdown",
   "metadata": {},
   "source": [
    "##### 1. Which of the following column(s) has/have null values?"
   ]
  },
  {
   "cell_type": "code",
   "execution_count": 3,
   "metadata": {},
   "outputs": [
    {
     "data": {
      "text/plain": [
       "['App', 'Rating', 'Type', 'Content Rating', 'Current Ver', 'Android Ver']"
      ]
     },
     "execution_count": 3,
     "metadata": {},
     "output_type": "execute_result"
    }
   ],
   "source": [
    "df.columns[df.isnull().any()].tolist()"
   ]
  },
  {
   "cell_type": "code",
   "execution_count": 4,
   "metadata": {},
   "outputs": [
    {
     "data": {
      "text/plain": [
       "App                object\n",
       "Category           object\n",
       "Rating            float64\n",
       "Reviews            object\n",
       "Size               object\n",
       "Installs           object\n",
       "Type               object\n",
       "Price              object\n",
       "Content Rating     object\n",
       "Genres             object\n",
       "Last Updated       object\n",
       "Current Ver        object\n",
       "Android Ver        object\n",
       "dtype: object"
      ]
     },
     "execution_count": 4,
     "metadata": {},
     "output_type": "execute_result"
    }
   ],
   "source": [
    "df.dtypes"
   ]
  },
  {
   "cell_type": "markdown",
   "metadata": {},
   "source": [
    "##### 2. Clean the `Rating` column and the other columns containing null values"
   ]
  },
  {
   "cell_type": "markdown",
   "metadata": {},
   "source": [
    " Cleaning a DataFrame: Handling Missing Values\n",
    "\n",
    "This guide walks you through a 3-step process to clean a DataFrame's \"Rating\" column and any other columns containing missing values.\n",
    "\n",
    "1. **Remove the invalid values from \"Rating\" (if any). Just set them as NaN**\n",
    "\n",
    "2. **Fill the null values in the \"Rating\" column using the mean()**\n",
    "\n",
    "3. **Clean any other non-numerical columns by just dropping the values**"
   ]
  },
  {
   "cell_type": "code",
   "execution_count": 5,
   "metadata": {},
   "outputs": [
    {
     "data": {
      "text/plain": [
       "<Axes: >"
      ]
     },
     "execution_count": 5,
     "metadata": {},
     "output_type": "execute_result"
    },
    {
     "data": {
      "image/png": "[encoded data removed]",
      "text/plain": [
       "<Figure size 640x480 with 1 Axes>"
      ]
     },
     "metadata": {},
     "output_type": "display_data"
    }
   ],
   "source": [
    "df['Rating'].plot(kind='box')"
   ]
  },
  {
   "cell_type": "code",
   "execution_count": 6,
   "metadata": {},
   "outputs": [
    {
     "name": "stderr",
     "output_type": "stream",
     "text": [
      "C:\\Users\\OUALID\\AppData\\Local\\Temp\\ipykernel_6568\\164221896.py:1: SettingWithCopyWarning: \n",
      "A value is trying to be set on a copy of a slice from a DataFrame\n",
      "\n",
      "See the caveats in the documentation: https://pandas.pydata.org/pandas-docs/stable/user_guide/indexing.html#returning-a-view-versus-a-copy\n",
      "  df['Rating'].loc[df['Rating'] > 5] = np.nan\n"
     ]
    }
   ],
   "source": [
    "df['Rating'].loc[df['Rating'] > 5] = np.nan"
   ]
  },
  {
   "cell_type": "code",
   "execution_count": 7,
   "metadata": {},
   "outputs": [],
   "source": [
    "df['Rating'].fillna(df['Rating'].mean(), inplace = True)"
   ]
  },
  {
   "cell_type": "code",
   "execution_count": 8,
   "metadata": {},
   "outputs": [],
   "source": [
    "df.dropna(inplace = True)"
   ]
  },
  {
   "cell_type": "code",
   "execution_count": 9,
   "metadata": {},
   "outputs": [
    {
     "data": {
      "text/plain": [
       "[]"
      ]
     },
     "execution_count": 9,
     "metadata": {},
     "output_type": "execute_result"
    }
   ],
   "source": [
    "df.columns[df.isnull().any()].tolist()"
   ]
  },
  {
   "cell_type": "code",
   "execution_count": 10,
   "metadata": {},
   "outputs": [
    {
     "data": {
      "text/plain": [
       "App                object\n",
       "Category           object\n",
       "Rating            float64\n",
       "Reviews            object\n",
       "Size               object\n",
       "Installs           object\n",
       "Type               object\n",
       "Price              object\n",
       "Content Rating     object\n",
       "Genres             object\n",
       "Last Updated       object\n",
       "Current Ver        object\n",
       "Android Ver        object\n",
       "dtype: object"
      ]
     },
     "execution_count": 10,
     "metadata": {},
     "output_type": "execute_result"
    }
   ],
   "source": [
    "df.dtypes"
   ]
  },
  {
   "cell_type": "markdown",
   "metadata": {},
   "source": [
    "##### 3. Clean the column `Reviews` and make it numeric"
   ]
  },
  {
   "cell_type": "markdown",
   "metadata": {},
   "source": [
    "**We will clean the Reviews column by transforming the values to the correct numeric representation. For example, 5M should be 5000000.**"
   ]
  },
  {
   "cell_type": "code",
   "execution_count": 11,
   "metadata": {},
   "outputs": [],
   "source": [
    "df['Reviews'] = df['Reviews'].astype(str)\n",
    "df.loc[df['Reviews'].str.contains('M'), 'Reviews'] = (pd.to_numeric(\n",
    "    df.loc[df['Reviews'].str.contains('M'), 'Reviews'].str.replace('M', '')) * 1_000_000).astype('str')\n",
    "df.loc[df['Reviews'].str.contains('k'), 'Reviews'] = (pd.to_numeric(\n",
    "    df.loc[df['Reviews'].str.contains('k'), 'Reviews'].str.replace('k', '')) * 1_000).astype('str')\n",
    "df['Reviews'] = pd.to_numeric(df['Reviews'])"
   ]
  },
  {
   "cell_type": "markdown",
   "metadata": {},
   "source": [
    "##### 4. How many duplicated apps are there?"
   ]
  },
  {
   "cell_type": "code",
   "execution_count": 12,
   "metadata": {},
   "outputs": [
    {
     "data": {
      "text/plain": [
       "1979"
      ]
     },
     "execution_count": 12,
     "metadata": {},
     "output_type": "execute_result"
    }
   ],
   "source": [
    "df['App'].duplicated(keep=False).sum()"
   ]
  },
  {
   "cell_type": "markdown",
   "metadata": {},
   "source": [
    "Drop duplicated apps keeping the ones with the greatest number of reviews"
   ]
  },
  {
   "cell_type": "code",
   "execution_count": 13,
   "metadata": {},
   "outputs": [],
   "source": [
    "df = df.sort_values(by=['App','Reviews'], ascending=False).drop_duplicates(subset='App', keep='first')"
   ]
  },
  {
   "cell_type": "markdown",
   "metadata": {},
   "source": [
    "##### 6. Format the `Category` column"
   ]
  },
  {
   "cell_type": "markdown",
   "metadata": {},
   "source": [
    "Categories are all uppercase and words are separated using underscores. Instead, we want them with capitalized in the first character and the underscores transformed as whitespaces.\n",
    "\n",
    "Example, the category AUTO_AND_VEHICLES should be transformed to: Auto and vehicles. Also, if you find any other wrong value transform it into an Unknown category."
   ]
  },
  {
   "cell_type": "code",
   "execution_count": 14,
   "metadata": {},
   "outputs": [
    {
     "data": {
      "text/plain": [
       "array(['ENTERTAINMENT', 'TOOLS', 'SOCIAL', 'LIFESTYLE', 'VIDEO_PLAYERS',\n",
       "       'COMICS', 'FAMILY', 'BOOKS_AND_REFERENCE', 'COMMUNICATION',\n",
       "       'MAPS_AND_NAVIGATION', 'HOUSE_AND_HOME', 'SHOPPING', 'GAME',\n",
       "       'ART_AND_DESIGN', 'NEWS_AND_MAGAZINES', 'AUTO_AND_VEHICLES',\n",
       "       'FINANCE', 'FOOD_AND_DRINK', 'WEATHER', 'PERSONALIZATION',\n",
       "       'EVENTS', 'MEDICAL', 'TRAVEL_AND_LOCAL', 'SPORTS', 'DATING',\n",
       "       'BUSINESS', 'EDUCATION', 'PRODUCTIVITY', 'PHOTOGRAPHY', 'BEAUTY',\n",
       "       'HEALTH_AND_FITNESS', 'LIBRARIES_AND_DEMO', 'PARENTING'],\n",
       "      dtype=object)"
      ]
     },
     "execution_count": 14,
     "metadata": {},
     "output_type": "execute_result"
    }
   ],
   "source": [
    "df['Category'].unique()"
   ]
  },
  {
   "cell_type": "code",
   "execution_count": 15,
   "metadata": {},
   "outputs": [
    {
     "data": {
      "text/plain": [
       "array(['Entertainment', 'Tools', 'Social', 'Lifestyle', 'Video players',\n",
       "       'Comics', 'Family', 'Books and reference', 'Communication',\n",
       "       'Maps and navigation', 'House and home', 'Shopping', 'Game',\n",
       "       'Art and design', 'News and magazines', 'Auto and vehicles',\n",
       "       'Finance', 'Food and drink', 'Weather', 'Personalization',\n",
       "       'Events', 'Medical', 'Travel and local', 'Sports', 'Dating',\n",
       "       'Business', 'Education', 'Productivity', 'Photography', 'Beauty',\n",
       "       'Health and fitness', 'Libraries and demo', 'Parenting'],\n",
       "      dtype=object)"
      ]
     },
     "execution_count": 15,
     "metadata": {},
     "output_type": "execute_result"
    }
   ],
   "source": [
    "df['Category'] = df['Category'].replace('_', ' ', regex=True)\n",
    "df['Category'] = df['Category'].str.capitalize()\n",
    "df['Category'].unique()"
   ]
  },
  {
   "cell_type": "markdown",
   "metadata": {},
   "source": [
    "##### 7. Clean and convert the `Installs` column to numeric type"
   ]
  },
  {
   "cell_type": "markdown",
   "metadata": {},
   "source": [
    "Clean and transform Installs as a numeric type. Some values in Installs will have a + modifier. Just remove the string and honor the original number (for example +2,500 or 2,500+ should be transformed to the number 2500)."
   ]
  },
  {
   "cell_type": "code",
   "execution_count": 16,
   "metadata": {},
   "outputs": [
    {
     "name": "stderr",
     "output_type": "stream",
     "text": [
      "C:\\Users\\OUALID\\AppData\\Local\\Temp\\ipykernel_6568\\169443242.py:1: FutureWarning: The default value of regex will change from True to False in a future version. In addition, single character regular expressions will *not* be treated as literal strings when regex=True.\n",
      "  df['Installs'] = df['Installs'].str.replace('+', '').str.replace(',', '').astype(float)\n"
     ]
    },
    {
     "data": {
      "text/plain": [
       "dtype('float64')"
      ]
     },
     "execution_count": 16,
     "metadata": {},
     "output_type": "execute_result"
    }
   ],
   "source": [
    "df['Installs'] = df['Installs'].str.replace('+', '').str.replace(',', '').astype(float)\n",
    "df['Installs'].dtype"
   ]
  },
  {
   "cell_type": "markdown",
   "metadata": {},
   "source": [
    "##### 8. Clean and convert the `Size` column to numeric (representing bytes)"
   ]
  },
  {
   "cell_type": "markdown",
   "metadata": {},
   "source": [
    "The Size column is of type object. Some values contain either a M or a k that indicate Kilobytes (1024 bytes) or Megabytes (1024 kb). These values should be transformed to their corresponding value in bytes. For example, 898k will become 919552 (898 * 1024).\n",
    "\n",
    "Some other values are completely invalid (there's no way to infer the numeric type from them). For these, just replace the value for 0."
   ]
  },
  {
   "cell_type": "code",
   "execution_count": 17,
   "metadata": {},
   "outputs": [
    {
     "data": {
      "text/plain": [
       "array(['4.0M', '3.2M', '18M', '26M', '59M', '34M', 'Varies with device',\n",
       "       '30M', '21M', '15M', '17M', '22M', '41M', '9.3M', '8.5M', '7.3M',\n",
       "       '14M', '6.8M', '4.5M', '40M', '16M', '8.0M', '2.7M', '12M', '9.8M',\n",
       "       '32M', '3.8M', '24M', '1.7M', '36M', '549k', '3.0M', '38M', '1.8M',\n",
       "       '9.7M', '2.5M', '10.0M', '64M', '13M', '3.5M', '19M', '7.0M',\n",
       "       '3.4M', '4.2M', '6.9M', '39M', '28M', '9.6M', '11M', '9.5M',\n",
       "       '6.1M', '881k', '2.1M', '2.2M', '1.5M', '27M', '5.4M', '6.7M',\n",
       "       '6.2M', '118k', '20M', '4.4M', '8.1M', '2.6M', '4.1M', '3.7M',\n",
       "       '8.8M', '8.4M', '898k', '29M', '57M', '5.3M', '23M', '8.7M', '25M',\n",
       "       '99M', '43M', '655k', '6.0M', '2.8M', '3.1M', '49M', '1.0M',\n",
       "       '1.9M', '9.2M', '8.6M', '31M', '35M', '6.3M', '73M', '7.8M', '77M',\n",
       "       '63M', '55M', '45M', '10M', '2.4M', '9.4M', '704k', '53M', '5.0M',\n",
       "       '2.9M', '78M', '4.6M', '3.3M', '1.4M', '5.6M', '5.8M', '4.8M',\n",
       "       '47M', '50M', '266k', '7.5M', '2.3M', '74M', '1.3M', '7.6M',\n",
       "       '5.9M', '33k', '228k', '6.6M', '6.5M', '8.3M', '6.4M', '1.1M',\n",
       "       '3.9M', '33M', '5.7M', '3.6M', '554k', '72k', '52M', '8.2M', '62M',\n",
       "       '66M', '75M', '96M', '84M', '7.2M', '7.1M', '61M', '9.0M', '37M',\n",
       "       '94M', '544k', '72M', '67M', '98M', '7.7M', '69M', '85M', '83M',\n",
       "       '86M', '44M', '5.1M', '4.7M', '1.2M', '404k', '46M', '95M', '2.0M',\n",
       "       '51M', '81M', '76M', '42M', '4.9M', '87M', '1020k', '56M', '887k',\n",
       "       '41k', '903k', '61k', '29k', '26k', '253k', '9.9M', '656k', '9.1M',\n",
       "       '58M', '4.3M', '5.5M', '71M', '68M', '306k', '601k', '7.9M',\n",
       "       '1.6M', '100M', '89M', '8.9M', '642k', '5.2M', '80M', '196k',\n",
       "       '91M', '569k', '97M', '60M', '82k', '48M', '79M', '82M', '201k',\n",
       "       '351k', '92M', '54M', '318k', '551k', '811k', '801k', '90M',\n",
       "       '948k', '65M', '70M', '980k', '957k', '121k', '872k', '7.4M',\n",
       "       '713k', '88M', '705k', '323k', '592k', '525k', '688k', '176k',\n",
       "       '93k', '756k', '716k', '93M', '314k', '809k', '226k', '940k',\n",
       "       '500k', '58k', '18k', '313k', '383k', '420k', '526k', '899k',\n",
       "       '556k', '23k', '234k', '375k', '190k', '847k', '378k', '626k',\n",
       "       '79k', '920k', '754k', '562k', '485k', '778k', '696k', '916k',\n",
       "       '930k', '14k', '334k', '540k', '288k', '20k', '309k', '643k',\n",
       "       '743k', '350k', '27k', '904k', '600k', '772k', '585k', '840k',\n",
       "       '172k', '779k', '55k', '953k', '629k', '70k', '411k', '246k',\n",
       "       '837k', '965k', '676k', '597k', '257k', '663k', '400k', '853k',\n",
       "       '251k', '695k', '376k', '364k', '470k', '785k', '954k', '720k',\n",
       "       '975k', '582k', '552k', '157k', '885k', '67k', '44k', '861k',\n",
       "       '209k', '992k', '73k', '241k', '51k', '17k', '8.5k', '523k', '48k',\n",
       "       '270k', '874k', '193k', '473k', '192k', '865k', '39k', '970k',\n",
       "       '879k', '161k', '387k', '860k', '154k', '892k', '518k', '862k',\n",
       "       '322k', '24k', '280k', '981k', '921k', '329k', '976k', '467k',\n",
       "       '74k', '857k', '818k', '454k', '259k', '54k', '608k', '994k',\n",
       "       '636k', '939k', '28k', '775k', '245k', '458k', '34k', '108k',\n",
       "       '221k', '942k', '206k', '164k', '609k', '951k', '784k', '353k',\n",
       "       '914k', '89k', '619k', '50k', '749k', '780k', '269k', '498k',\n",
       "       '961k', '516k', '97k', '986k', '787k', '122k', '173k', '499k',\n",
       "       '153k', '116k', '103k', '514k', '913k', '240k', '208k', '335k',\n",
       "       '25k', '982k', '746k', '444k', '691k', '511k', '373k', '437k',\n",
       "       '598k', '683k', '186k', '191k', '319k', '842k', '647k', '613k',\n",
       "       '506k', '782k', '459k', '460k', '721k', '417k', '429k', '412k',\n",
       "       '430k', '812k', '816k', '496k', '200k', '728k', '478k', '442k',\n",
       "       '414k', '421k', '963k', '175k', '210k', '308k', '717k', '624k',\n",
       "       '232k', '219k', '292k', '220k', '143k', '144k', '141k', '160k',\n",
       "       '170k', '293k', '730k', '91k', '238k', '714k', '283k', '545k',\n",
       "       '475k', '169k', '45k', '81k', '924k', '902k', '317k', '78k',\n",
       "       '239k', '243k', '371k', '203k'], dtype=object)"
      ]
     },
     "execution_count": 17,
     "metadata": {},
     "output_type": "execute_result"
    }
   ],
   "source": [
    "df['Size'].unique()"
   ]
  },
  {
   "cell_type": "code",
   "execution_count": 18,
   "metadata": {},
   "outputs": [
    {
     "data": {
      "text/html": [
       "<div>\n",
       "<style scoped>\n",
       "    .dataframe tbody tr th:only-of-type {\n",
       "        vertical-align: middle;\n",
       "    }\n",
       "\n",
       "    .dataframe tbody tr th {\n",
       "        vertical-align: top;\n",
       "    }\n",
       "\n",
       "    .dataframe thead th {\n",
       "        text-align: right;\n",
       "    }\n",
       "</style>\n",
       "<table border=\"1\" class=\"dataframe\">\n",
       "  <thead>\n",
       "    <tr style=\"text-align: right;\">\n",
       "      <th></th>\n",
       "      <th>App</th>\n",
       "      <th>Category</th>\n",
       "      <th>Rating</th>\n",
       "      <th>Reviews</th>\n",
       "      <th>Size</th>\n",
       "      <th>Installs</th>\n",
       "      <th>Type</th>\n",
       "      <th>Price</th>\n",
       "      <th>Content Rating</th>\n",
       "      <th>Genres</th>\n",
       "      <th>Last Updated</th>\n",
       "      <th>Current Ver</th>\n",
       "      <th>Android Ver</th>\n",
       "    </tr>\n",
       "  </thead>\n",
       "  <tbody>\n",
       "    <tr>\n",
       "      <th>4894</th>\n",
       "      <td>Chatime AB Rewards</td>\n",
       "      <td>Family</td>\n",
       "      <td>4.191757</td>\n",
       "      <td>9</td>\n",
       "      <td>23068672.0</td>\n",
       "      <td>1000.0</td>\n",
       "      <td>Free</td>\n",
       "      <td>0</td>\n",
       "      <td>Everyone</td>\n",
       "      <td>Entertainment</td>\n",
       "      <td>June 22, 2018</td>\n",
       "      <td>2.7.0621</td>\n",
       "      <td>4.2 and up</td>\n",
       "    </tr>\n",
       "    <tr>\n",
       "      <th>3077</th>\n",
       "      <td>NCAA Sports</td>\n",
       "      <td>Sports</td>\n",
       "      <td>3.900000</td>\n",
       "      <td>4272</td>\n",
       "      <td>16777216.0</td>\n",
       "      <td>500000.0</td>\n",
       "      <td>Free</td>\n",
       "      <td>0</td>\n",
       "      <td>Everyone</td>\n",
       "      <td>Sports</td>\n",
       "      <td>April 23, 2018</td>\n",
       "      <td>3.0.13</td>\n",
       "      <td>4.1 and up</td>\n",
       "    </tr>\n",
       "    <tr>\n",
       "      <th>3998</th>\n",
       "      <td>C Programs and Reference</td>\n",
       "      <td>Books and reference</td>\n",
       "      <td>4.200000</td>\n",
       "      <td>873</td>\n",
       "      <td>2621440.0</td>\n",
       "      <td>50000.0</td>\n",
       "      <td>Free</td>\n",
       "      <td>0</td>\n",
       "      <td>Everyone</td>\n",
       "      <td>Books &amp; Reference</td>\n",
       "      <td>July 31, 2014</td>\n",
       "      <td>2.2</td>\n",
       "      <td>2.1 and up</td>\n",
       "    </tr>\n",
       "    <tr>\n",
       "      <th>10694</th>\n",
       "      <td>FO SODEXO</td>\n",
       "      <td>Communication</td>\n",
       "      <td>4.191757</td>\n",
       "      <td>0</td>\n",
       "      <td>16777216.0</td>\n",
       "      <td>100.0</td>\n",
       "      <td>Free</td>\n",
       "      <td>0</td>\n",
       "      <td>Everyone</td>\n",
       "      <td>Communication</td>\n",
       "      <td>March 13, 2018</td>\n",
       "      <td>1</td>\n",
       "      <td>4.1 and up</td>\n",
       "    </tr>\n",
       "    <tr>\n",
       "      <th>2863</th>\n",
       "      <td>Photo Mixer</td>\n",
       "      <td>Photography</td>\n",
       "      <td>3.900000</td>\n",
       "      <td>55427</td>\n",
       "      <td>6920601.6</td>\n",
       "      <td>10000000.0</td>\n",
       "      <td>Free</td>\n",
       "      <td>0</td>\n",
       "      <td>Everyone</td>\n",
       "      <td>Photography</td>\n",
       "      <td>March 25, 2016</td>\n",
       "      <td>5.1</td>\n",
       "      <td>2.3.3 and up</td>\n",
       "    </tr>\n",
       "  </tbody>\n",
       "</table>\n",
       "</div>"
      ],
      "text/plain": [
       "                            App             Category    Rating  Reviews  \\\n",
       "4894         Chatime AB Rewards               Family  4.191757        9   \n",
       "3077                NCAA Sports               Sports  3.900000     4272   \n",
       "3998   C Programs and Reference  Books and reference  4.200000      873   \n",
       "10694                 FO SODEXO        Communication  4.191757        0   \n",
       "2863                Photo Mixer          Photography  3.900000    55427   \n",
       "\n",
       "             Size    Installs  Type Price Content Rating             Genres  \\\n",
       "4894   23068672.0      1000.0  Free     0       Everyone      Entertainment   \n",
       "3077   16777216.0    500000.0  Free     0       Everyone             Sports   \n",
       "3998    2621440.0     50000.0  Free     0       Everyone  Books & Reference   \n",
       "10694  16777216.0       100.0  Free     0       Everyone      Communication   \n",
       "2863    6920601.6  10000000.0  Free     0       Everyone        Photography   \n",
       "\n",
       "         Last Updated Current Ver   Android Ver  \n",
       "4894    June 22, 2018    2.7.0621    4.2 and up  \n",
       "3077   April 23, 2018      3.0.13    4.1 and up  \n",
       "3998    July 31, 2014         2.2    2.1 and up  \n",
       "10694  March 13, 2018           1    4.1 and up  \n",
       "2863   March 25, 2016         5.1  2.3.3 and up  "
      ]
     },
     "execution_count": 18,
     "metadata": {},
     "output_type": "execute_result"
    }
   ],
   "source": [
    "df['Size'] = df['Size'].astype(str)\n",
    "df.loc[df['Size']=='Varies with device' ,'Size'] = \"0\"\n",
    "df.loc[df['Size'].str.contains('M'), 'Size'] = (pd.to_numeric(df.loc[df['Size'].str.contains('M'), 'Size'].str.replace('M', '')) * 1_024 * 1_024).astype('str')\n",
    "df.loc[df['Size'].str.contains('k'), 'Size'] = (pd.to_numeric(df.loc[df['Size'].str.contains('k'), 'Size'].str.replace('k', '')) * 1_024).astype('str')\n",
    "df['Size'] = pd.to_numeric(df['Size'])\n",
    "df.sample(5)"
   ]
  },
  {
   "cell_type": "markdown",
   "metadata": {},
   "source": [
    "##### 9. Clean and convert the `Price` column to numeric"
   ]
  },
  {
   "cell_type": "markdown",
   "metadata": {},
   "source": [
    "Values of the Price column are strings representing price with special symbol '$'."
   ]
  },
  {
   "cell_type": "code",
   "execution_count": 19,
   "metadata": {},
   "outputs": [
    {
     "data": {
      "text/plain": [
       "array([0, '$399.99', '$1.49', '$2.99', '$1.99', '$1.20', '$0.99', '$4.29',\n",
       "       '$4.99', '$4.49', '$3.99', '$10.00', '$154.99', '$1.96', '$5.49',\n",
       "       '$19.40', '$5.99', '$12.99', '$2.50', '$19.99', '$2.56', '$9.99',\n",
       "       '$1.04', '$2.90', '$1.00', '$2.49', '$79.99', '$8.99', '$16.99',\n",
       "       '$1.97', '$3.49', '$17.99', '$6.99', '$6.49', '$2.95', '$4.59',\n",
       "       '$4.85', '$7.49', '$10.99', '$4.84', '$1.76', '$7.99', '$29.99',\n",
       "       '$4.60', '$3.02', '$14.99', '$39.99', '$1.70', '$15.99', '$24.99',\n",
       "       '$9.00', '$1.59', '$8.49', '$1.61', '$89.99', '$74.99', '$15.46',\n",
       "       '$1.26', '$400.00', '$299.99', '$379.99', '$18.99', '$37.99',\n",
       "       '$389.99', '$25.99', '$3.88', '$13.99', '$2.00', '$30.99',\n",
       "       '$394.99', '$11.99', '$4.77', '$3.61', '$200.00', '$28.99',\n",
       "       '$46.99', '$3.28', '$3.95', '$14.00', '$2.59', '$4.80', '$109.99',\n",
       "       '$1.75', '$3.90', '$1.50', '$1.29', '$2.60', '$19.90', '$5.00',\n",
       "       '$3.04', '$33.99', '$3.08'], dtype=object)"
      ]
     },
     "execution_count": 19,
     "metadata": {},
     "output_type": "execute_result"
    }
   ],
   "source": [
    "df['Price'].unique()"
   ]
  },
  {
   "cell_type": "code",
   "execution_count": 20,
   "metadata": {},
   "outputs": [
    {
     "name": "stderr",
     "output_type": "stream",
     "text": [
      "C:\\Users\\OUALID\\AppData\\Local\\Temp\\ipykernel_6568\\3388138261.py:3: FutureWarning: The default value of regex will change from True to False in a future version. In addition, single character regular expressions will *not* be treated as literal strings when regex=True.\n",
      "  df['Price'] = df['Price'].str.replace('$', '').astype(float)\n"
     ]
    },
    {
     "data": {
      "text/html": [
       "<div>\n",
       "<style scoped>\n",
       "    .dataframe tbody tr th:only-of-type {\n",
       "        vertical-align: middle;\n",
       "    }\n",
       "\n",
       "    .dataframe tbody tr th {\n",
       "        vertical-align: top;\n",
       "    }\n",
       "\n",
       "    .dataframe thead th {\n",
       "        text-align: right;\n",
       "    }\n",
       "</style>\n",
       "<table border=\"1\" class=\"dataframe\">\n",
       "  <thead>\n",
       "    <tr style=\"text-align: right;\">\n",
       "      <th></th>\n",
       "      <th>App</th>\n",
       "      <th>Category</th>\n",
       "      <th>Rating</th>\n",
       "      <th>Reviews</th>\n",
       "      <th>Size</th>\n",
       "      <th>Installs</th>\n",
       "      <th>Type</th>\n",
       "      <th>Price</th>\n",
       "      <th>Content Rating</th>\n",
       "      <th>Genres</th>\n",
       "      <th>Last Updated</th>\n",
       "      <th>Current Ver</th>\n",
       "      <th>Android Ver</th>\n",
       "    </tr>\n",
       "  </thead>\n",
       "  <tbody>\n",
       "    <tr>\n",
       "      <th>5934</th>\n",
       "      <td>Ba Zi Fortune</td>\n",
       "      <td>Lifestyle</td>\n",
       "      <td>3.900000</td>\n",
       "      <td>592</td>\n",
       "      <td>2621440.0</td>\n",
       "      <td>100000.0</td>\n",
       "      <td>Free</td>\n",
       "      <td>0.00</td>\n",
       "      <td>Everyone</td>\n",
       "      <td>Lifestyle</td>\n",
       "      <td>January 2, 2018</td>\n",
       "      <td>1.0.23</td>\n",
       "      <td>2.3 and up</td>\n",
       "    </tr>\n",
       "    <tr>\n",
       "      <th>5373</th>\n",
       "      <td>I AM RICH PRO PLUS</td>\n",
       "      <td>Finance</td>\n",
       "      <td>4.000000</td>\n",
       "      <td>36</td>\n",
       "      <td>42991616.0</td>\n",
       "      <td>1000.0</td>\n",
       "      <td>Paid</td>\n",
       "      <td>399.99</td>\n",
       "      <td>Everyone</td>\n",
       "      <td>Finance</td>\n",
       "      <td>June 25, 2018</td>\n",
       "      <td>1.0.2</td>\n",
       "      <td>4.1 and up</td>\n",
       "    </tr>\n",
       "    <tr>\n",
       "      <th>6857</th>\n",
       "      <td>Hilverda De Boer B.V. App</td>\n",
       "      <td>Shopping</td>\n",
       "      <td>4.191757</td>\n",
       "      <td>5</td>\n",
       "      <td>19922944.0</td>\n",
       "      <td>500.0</td>\n",
       "      <td>Free</td>\n",
       "      <td>0.00</td>\n",
       "      <td>Everyone</td>\n",
       "      <td>Shopping</td>\n",
       "      <td>February 2, 2018</td>\n",
       "      <td>2.5.0</td>\n",
       "      <td>4.0.3 and up</td>\n",
       "    </tr>\n",
       "    <tr>\n",
       "      <th>4308</th>\n",
       "      <td>K-App Mitarbeiter Galeria Kaufhof</td>\n",
       "      <td>Productivity</td>\n",
       "      <td>4.191757</td>\n",
       "      <td>0</td>\n",
       "      <td>19922944.0</td>\n",
       "      <td>100.0</td>\n",
       "      <td>Free</td>\n",
       "      <td>0.00</td>\n",
       "      <td>Everyone</td>\n",
       "      <td>Productivity</td>\n",
       "      <td>July 10, 2018</td>\n",
       "      <td>3.27.1</td>\n",
       "      <td>4.4 and up</td>\n",
       "    </tr>\n",
       "    <tr>\n",
       "      <th>4025</th>\n",
       "      <td>C Prowess</td>\n",
       "      <td>Family</td>\n",
       "      <td>4.800000</td>\n",
       "      <td>306</td>\n",
       "      <td>3460300.8</td>\n",
       "      <td>5000.0</td>\n",
       "      <td>Free</td>\n",
       "      <td>0.00</td>\n",
       "      <td>Everyone</td>\n",
       "      <td>Education</td>\n",
       "      <td>June 3, 2017</td>\n",
       "      <td>1.2</td>\n",
       "      <td>4.1 and up</td>\n",
       "    </tr>\n",
       "  </tbody>\n",
       "</table>\n",
       "</div>"
      ],
      "text/plain": [
       "                                    App      Category    Rating  Reviews  \\\n",
       "5934                      Ba Zi Fortune     Lifestyle  3.900000      592   \n",
       "5373                 I AM RICH PRO PLUS       Finance  4.000000       36   \n",
       "6857          Hilverda De Boer B.V. App      Shopping  4.191757        5   \n",
       "4308  K-App Mitarbeiter Galeria Kaufhof  Productivity  4.191757        0   \n",
       "4025                          C Prowess        Family  4.800000      306   \n",
       "\n",
       "            Size  Installs  Type   Price Content Rating        Genres  \\\n",
       "5934   2621440.0  100000.0  Free    0.00       Everyone     Lifestyle   \n",
       "5373  42991616.0    1000.0  Paid  399.99       Everyone       Finance   \n",
       "6857  19922944.0     500.0  Free    0.00       Everyone      Shopping   \n",
       "4308  19922944.0     100.0  Free    0.00       Everyone  Productivity   \n",
       "4025   3460300.8    5000.0  Free    0.00       Everyone     Education   \n",
       "\n",
       "          Last Updated Current Ver   Android Ver  \n",
       "5934   January 2, 2018      1.0.23    2.3 and up  \n",
       "5373     June 25, 2018       1.0.2    4.1 and up  \n",
       "6857  February 2, 2018       2.5.0  4.0.3 and up  \n",
       "4308     July 10, 2018      3.27.1    4.4 and up  \n",
       "4025      June 3, 2017         1.2    4.1 and up  "
      ]
     },
     "execution_count": 20,
     "metadata": {},
     "output_type": "execute_result"
    }
   ],
   "source": [
    "df['Price'] = df['Price'].astype(str)\n",
    "df.loc[df['Price']=='Free', 'Price'] = \"0\"\n",
    "df['Price'] = df['Price'].str.replace('$', '').astype(float)\n",
    "df['Price'].dtype\n",
    "df.sample(5)"
   ]
  },
  {
   "cell_type": "markdown",
   "metadata": {},
   "source": [
    "##### 10. Paid or free?"
   ]
  },
  {
   "cell_type": "markdown",
   "metadata": {},
   "source": [
    "Now that we have cleaned the Price column, let's create another auxiliary Distribution column.\n",
    "\n",
    "This column should contain Free/Paid values depending on the app's price."
   ]
  },
  {
   "cell_type": "code",
   "execution_count": 24,
   "metadata": {},
   "outputs": [
    {
     "data": {
      "text/html": [
       "<div>\n",
       "<style scoped>\n",
       "    .dataframe tbody tr th:only-of-type {\n",
       "        vertical-align: middle;\n",
       "    }\n",
       "\n",
       "    .dataframe tbody tr th {\n",
       "        vertical-align: top;\n",
       "    }\n",
       "\n",
       "    .dataframe thead th {\n",
       "        text-align: right;\n",
       "    }\n",
       "</style>\n",
       "<table border=\"1\" class=\"dataframe\">\n",
       "  <thead>\n",
       "    <tr style=\"text-align: right;\">\n",
       "      <th></th>\n",
       "      <th>App</th>\n",
       "      <th>Category</th>\n",
       "      <th>Rating</th>\n",
       "      <th>Reviews</th>\n",
       "      <th>Size</th>\n",
       "      <th>Installs</th>\n",
       "      <th>Type</th>\n",
       "      <th>Price</th>\n",
       "      <th>Content Rating</th>\n",
       "      <th>Genres</th>\n",
       "      <th>Last Updated</th>\n",
       "      <th>Current Ver</th>\n",
       "      <th>Android Ver</th>\n",
       "      <th>Distribution</th>\n",
       "    </tr>\n",
       "  </thead>\n",
       "  <tbody>\n",
       "    <tr>\n",
       "      <th>882</th>\n",
       "      <td>ðŸ”¥ Football Wallpapers 4K | Full HD Backgrou...</td>\n",
       "      <td>Entertainment</td>\n",
       "      <td>4.700000</td>\n",
       "      <td>11661</td>\n",
       "      <td>4194304.0</td>\n",
       "      <td>1000000.0</td>\n",
       "      <td>Free</td>\n",
       "      <td>0.00</td>\n",
       "      <td>Everyone</td>\n",
       "      <td>Entertainment</td>\n",
       "      <td>July 14, 2018</td>\n",
       "      <td>1.1.3.2</td>\n",
       "      <td>4.0.3 and up</td>\n",
       "      <td>Free</td>\n",
       "    </tr>\n",
       "    <tr>\n",
       "      <th>7559</th>\n",
       "      <td>ðŸ“ Smart Ruler â†”ï¸ cm/inch measuring for ...</td>\n",
       "      <td>Tools</td>\n",
       "      <td>4.000000</td>\n",
       "      <td>19</td>\n",
       "      <td>3355443.2</td>\n",
       "      <td>10000.0</td>\n",
       "      <td>Free</td>\n",
       "      <td>0.00</td>\n",
       "      <td>Everyone</td>\n",
       "      <td>Tools</td>\n",
       "      <td>October 21, 2017</td>\n",
       "      <td>1</td>\n",
       "      <td>4.2 and up</td>\n",
       "      <td>Free</td>\n",
       "    </tr>\n",
       "    <tr>\n",
       "      <th>2575</th>\n",
       "      <td>ðŸ’˜ WhatsLov: Smileys of love, stickers and GIF</td>\n",
       "      <td>Social</td>\n",
       "      <td>4.600000</td>\n",
       "      <td>22098</td>\n",
       "      <td>18874368.0</td>\n",
       "      <td>1000000.0</td>\n",
       "      <td>Free</td>\n",
       "      <td>0.00</td>\n",
       "      <td>Everyone</td>\n",
       "      <td>Social</td>\n",
       "      <td>July 24, 2018</td>\n",
       "      <td>4.2.4</td>\n",
       "      <td>4.0.3 and up</td>\n",
       "      <td>Free</td>\n",
       "    </tr>\n",
       "    <tr>\n",
       "      <th>4362</th>\n",
       "      <td>ðŸ’Ž I'm rich</td>\n",
       "      <td>Lifestyle</td>\n",
       "      <td>3.800000</td>\n",
       "      <td>718</td>\n",
       "      <td>27262976.0</td>\n",
       "      <td>10000.0</td>\n",
       "      <td>Paid</td>\n",
       "      <td>399.99</td>\n",
       "      <td>Everyone</td>\n",
       "      <td>Lifestyle</td>\n",
       "      <td>March 11, 2018</td>\n",
       "      <td>1.0.0</td>\n",
       "      <td>4.4 and up</td>\n",
       "      <td>Paid</td>\n",
       "    </tr>\n",
       "    <tr>\n",
       "      <th>6334</th>\n",
       "      <td>ë½•í‹°ë¹„ - ê°œì¸ë°©ì†¡, ì¸í„°ë„·ë°©ì†¡, BJë...</td>\n",
       "      <td>Video players</td>\n",
       "      <td>4.191757</td>\n",
       "      <td>414</td>\n",
       "      <td>61865984.0</td>\n",
       "      <td>100000.0</td>\n",
       "      <td>Free</td>\n",
       "      <td>0.00</td>\n",
       "      <td>Mature 17+</td>\n",
       "      <td>Video Players &amp; Editors</td>\n",
       "      <td>July 18, 2018</td>\n",
       "      <td>4.0.7</td>\n",
       "      <td>4.0.3 and up</td>\n",
       "      <td>Free</td>\n",
       "    </tr>\n",
       "  </tbody>\n",
       "</table>\n",
       "</div>"
      ],
      "text/plain": [
       "                                                    App       Category  \\\n",
       "882   ðŸ”¥ Football Wallpapers 4K | Full HD Backgrou...  Entertainment   \n",
       "7559  ðŸ“ Smart Ruler â†”ï¸ cm/inch measuring for ...          Tools   \n",
       "2575   ðŸ’˜ WhatsLov: Smileys of love, stickers and GIF         Social   \n",
       "4362                                      ðŸ’Ž I'm rich      Lifestyle   \n",
       "6334  ë½•í‹°ë¹„ - ê°œì¸ë°©ì†¡, ì¸í„°ë„·ë°©ì†¡, BJë...  Video players   \n",
       "\n",
       "        Rating  Reviews        Size   Installs  Type   Price Content Rating  \\\n",
       "882   4.700000    11661   4194304.0  1000000.0  Free    0.00       Everyone   \n",
       "7559  4.000000       19   3355443.2    10000.0  Free    0.00       Everyone   \n",
       "2575  4.600000    22098  18874368.0  1000000.0  Free    0.00       Everyone   \n",
       "4362  3.800000      718  27262976.0    10000.0  Paid  399.99       Everyone   \n",
       "6334  4.191757      414  61865984.0   100000.0  Free    0.00     Mature 17+   \n",
       "\n",
       "                       Genres      Last Updated Current Ver   Android Ver  \\\n",
       "882             Entertainment     July 14, 2018     1.1.3.2  4.0.3 and up   \n",
       "7559                    Tools  October 21, 2017           1    4.2 and up   \n",
       "2575                   Social     July 24, 2018       4.2.4  4.0.3 and up   \n",
       "4362                Lifestyle    March 11, 2018       1.0.0    4.4 and up   \n",
       "6334  Video Players & Editors     July 18, 2018       4.0.7  4.0.3 and up   \n",
       "\n",
       "     Distribution  \n",
       "882          Free  \n",
       "7559         Free  \n",
       "2575         Free  \n",
       "4362         Paid  \n",
       "6334         Free  "
      ]
     },
     "execution_count": 24,
     "metadata": {},
     "output_type": "execute_result"
    }
   ],
   "source": [
    "df.loc[df['Price'] == 0, 'Distribution'] = 'Free'\n",
    "df.loc[df['Price'] > 0, 'Distribution'] = 'Paid'\n",
    "df.head()"
   ]
  },
  {
   "cell_type": "markdown",
   "metadata": {},
   "source": [
    "### Analysis"
   ]
  },
  {
   "cell_type": "markdown",
   "metadata": {},
   "source": [
    "##### 11. Which app has the most reviews?"
   ]
  },
  {
   "cell_type": "code",
   "execution_count": 29,
   "metadata": {},
   "outputs": [
    {
     "data": {
      "text/plain": [
       "App        Facebook\n",
       "Reviews    78158306\n",
       "Name: 2544, dtype: object"
      ]
     },
     "execution_count": 29,
     "metadata": {},
     "output_type": "execute_result"
    }
   ],
   "source": [
    "df[['App','Reviews']].sort_values(by=['Reviews'], ascending=False).iloc[0]"
   ]
  },
  {
   "cell_type": "markdown",
   "metadata": {},
   "source": [
    "##### 12. What category has the highest number of apps uploaded to the store?"
   ]
  },
  {
   "cell_type": "code",
   "execution_count": 34,
   "metadata": {},
   "outputs": [
    {
     "data": {
      "text/plain": [
       "Family    1870\n",
       "Name: Category, dtype: int64"
      ]
     },
     "execution_count": 34,
     "metadata": {},
     "output_type": "execute_result"
    }
   ],
   "source": [
    "df['Category'].value_counts().head(1)"
   ]
  },
  {
   "cell_type": "code",
   "execution_count": 30,
   "metadata": {},
   "outputs": [
    {
     "data": {
      "text/plain": [
       "<Axes: >"
      ]
     },
     "execution_count": 30,
     "metadata": {},
     "output_type": "execute_result"
    },
    {
     "data": {
      "image/png": "[encoded data removed]",
      "text/plain": [
       "<Figure size 640x480 with 1 Axes>"
      ]
     },
     "metadata": {},
     "output_type": "display_data"
    }
   ],
   "source": [
    "df['Category'].value_counts().plot(kind='bar')"
   ]
  },
  {
   "cell_type": "markdown",
   "metadata": {},
   "source": [
    "##### 13. To which category belongs the most expensive app?"
   ]
  },
  {
   "cell_type": "code",
   "execution_count": 36,
   "metadata": {},
   "outputs": [
    {
     "data": {
      "text/plain": [
       "App         I'm Rich - Trump Edition\n",
       "Category                   Lifestyle\n",
       "Price                          400.0\n",
       "Name: 4367, dtype: object"
      ]
     },
     "execution_count": 36,
     "metadata": {},
     "output_type": "execute_result"
    }
   ],
   "source": [
    "df[['App','Category','Price']].sort_values(by=['Price'], ascending=False).iloc[0]"
   ]
  },
  {
   "cell_type": "markdown",
   "metadata": {},
   "source": [
    "##### 14. What's the name of the most expensive game?"
   ]
  },
  {
   "cell_type": "code",
   "execution_count": 40,
   "metadata": {},
   "outputs": [
    {
     "data": {
      "text/plain": [
       "App         The World Ends With You\n",
       "Category                       Game\n",
       "Price                         17.99\n",
       "Name: 4203, dtype: object"
      ]
     },
     "execution_count": 40,
     "metadata": {},
     "output_type": "execute_result"
    }
   ],
   "source": [
    "df[['App','Category','Price']].query(\"Category == 'Game'\").sort_values(by=['Price'], ascending=False).iloc[0]"
   ]
  },
  {
   "cell_type": "markdown",
   "metadata": {},
   "source": [
    "##### 15. Which is the most popular Finance App?"
   ]
  },
  {
   "cell_type": "code",
   "execution_count": 42,
   "metadata": {},
   "outputs": [
    {
     "data": {
      "text/plain": [
       "App          Google Pay\n",
       "Category        Finance\n",
       "Installs    100000000.0\n",
       "Name: 5601, dtype: object"
      ]
     },
     "execution_count": 42,
     "metadata": {},
     "output_type": "execute_result"
    }
   ],
   "source": [
    "df[['App','Category','Installs']].query(\"Category == 'Finance'\").sort_values(by=['Installs'], ascending=False).iloc[0]"
   ]
  },
  {
   "cell_type": "markdown",
   "metadata": {},
   "source": [
    "##### 16. What *Teen* Game has the most reviews?"
   ]
  },
  {
   "cell_type": "markdown",
   "metadata": {},
   "source": [
    "What app from the Game category and catalogued as Teen in Content Rating has the greatest number of reviews?"
   ]
  },
  {
   "cell_type": "code",
   "execution_count": 47,
   "metadata": {},
   "outputs": [
    {
     "data": {
      "text/plain": [
       "App               Asphalt 8: Airborne\n",
       "Category                         Game\n",
       "Content Rating                   Teen\n",
       "Reviews                       8389714\n",
       "Name: 3912, dtype: object"
      ]
     },
     "execution_count": 47,
     "metadata": {},
     "output_type": "execute_result"
    }
   ],
   "source": [
    "df[['App','Category', 'Content Rating' ,'Reviews']].query(\"Category == 'Game'and `Content Rating` == 'Teen'\").sort_values(by=['Reviews'], ascending=False).iloc[0]"
   ]
  },
  {
   "cell_type": "markdown",
   "metadata": {},
   "source": [
    "##### 17. Which is the free game with the most reviews?"
   ]
  },
  {
   "cell_type": "code",
   "execution_count": 48,
   "metadata": {},
   "outputs": [
    {
     "data": {
      "text/plain": [
       "App             Clash of Clans\n",
       "Category                  Game\n",
       "Distribution              Free\n",
       "Reviews               44893888\n",
       "Name: 1879, dtype: object"
      ]
     },
     "execution_count": 48,
     "metadata": {},
     "output_type": "execute_result"
    }
   ],
   "source": [
    "df[['App','Category', 'Distribution' ,'Reviews']].query(\"Category == 'Game'and Distribution == 'Free'\").sort_values(by=['Reviews'], ascending=False).iloc[0]"
   ]
  },
  {
   "cell_type": "markdown",
   "metadata": {},
   "source": [
    "##### 18. How many Tb (tebibytes) were transferred (overall) for the most popular Lifestyle app?"
   ]
  },
  {
   "cell_type": "markdown",
   "metadata": {},
   "source": [
    "Find the most popular app from the Lifestyle category (by Installs). Then calculate the total transfer multiplying Size by Installs and perform the transformation from bytes to Tb."
   ]
  },
  {
   "cell_type": "code",
   "execution_count": 53,
   "metadata": {},
   "outputs": [
    {
     "data": {
      "text/plain": [
       "App              Tinder\n",
       "Installs    100000000.0\n",
       "Size         71303168.0\n",
       "Category      Lifestyle\n",
       "Name: 4587, dtype: object"
      ]
     },
     "execution_count": 53,
     "metadata": {},
     "output_type": "execute_result"
    }
   ],
   "source": [
    "df_Tb =df[['App','Installs', 'Size','Category']].query(\"Category == 'Lifestyle'\").sort_values(by=['Installs'], ascending=False).iloc[0]\n",
    "df_Tb"
   ]
  },
  {
   "cell_type": "code",
   "execution_count": 56,
   "metadata": {},
   "outputs": [
    {
     "data": {
      "text/plain": [
       "6484.9853515625"
      ]
     },
     "execution_count": 56,
     "metadata": {},
     "output_type": "execute_result"
    }
   ],
   "source": [
    "(df_Tb['Installs'] * df_Tb['Size']) / ( 1_024 * 1_024 * 1_024 * 1_024 )"
   ]
  },
  {
   "cell_type": "markdown",
   "metadata": {},
   "source": [
    "## Authors\n",
    "\n",
    "- [@Oualid El-Ouardi](https://github.com/OUALi0)"
   ]
  }
 ],
 "metadata": {
  "kernelspec": {
   "display_name": "base",
   "language": "python",
   "name": "python3"
  },
  "language_info": {
   "codemirror_mode": {
    "name": "ipython",
    "version": 3
   },
   "file_extension": ".py",
   "mimetype": "text/x-python",
   "name": "python",
   "nbconvert_exporter": "python",
   "pygments_lexer": "ipython3",
   "version": "3.11.7"
  }
 },
 "nbformat": 4,
 "nbformat_minor": 2
}
